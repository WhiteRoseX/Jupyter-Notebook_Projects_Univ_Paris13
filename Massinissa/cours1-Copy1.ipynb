{
 "cells": [
  {
   "cell_type": "markdown",
   "metadata": {
    "deletable": false,
    "editable": false,
    "run_control": {
     "frozen": true
    }
   },
   "source": [
    "# Problème 1 : Aire d'un rectangle"
   ]
  },
  {
   "cell_type": "markdown",
   "metadata": {
    "deletable": false,
    "editable": false,
    "run_control": {
     "frozen": true
    }
   },
   "source": [
    "Cet exercice est formé d'une suite de questions permettant d'aborder les notions de bases de programmation suivantes :\n",
    "- Variables\n",
    "- Affichage et saisie\n",
    "- Conditions\n",
    "- Boucles\n",
    "- Fonctions\n",
    "\n",
    "Le principe consiste à répondre aux différentes questions. Chaque question fera l'objet d'une correction de l'enseignement et permettra d'aborder les différentes notions de cours contenues dans les 5 premiers chapitres. "
   ]
  },
  {
   "cell_type": "markdown",
   "metadata": {
    "deletable": false,
    "editable": false,
    "run_control": {
     "frozen": true
    }
   },
   "source": [
    "## Question 1 : Calcul de l'aire d'un rectangle\n",
    "\n",
    "Écrire un code permettant à l'utilisateur de saisir une longueur et une largeur et affichant l'aire du rectangle.\n",
    "L'affichage final devra être `L'aire de ce rectangle est de 7.0 m²` si l'utilisateur saisit 3.5 et 2 pour la longueur et la largeur.\n",
    "\n",
    "**Notions abordées :** Variables, saisies, affichage, affectation, conversion de types (cast)."
   ]
  },
  {
   "cell_type": "code",
   "execution_count": 2,
   "metadata": {
    "tags": [
     "answer"
    ]
   },
   "outputs": [
    {
     "ename": "KeyboardInterrupt",
     "evalue": "Interrupted by user",
     "output_type": "error",
     "traceback": [
      "\u001b[0;31m---------------------------------------------------------------------------\u001b[0m",
      "\u001b[0;31mKeyboardInterrupt\u001b[0m                         Traceback (most recent call last)",
      "Cell \u001b[0;32mIn[2], line 9\u001b[0m\n\u001b[1;32m      6\u001b[0m     a \u001b[38;5;241m=\u001b[39m \u001b[38;5;28mint\u001b[39m(longueur) \u001b[38;5;241m*\u001b[39m \u001b[38;5;28mint\u001b[39m(largeur)\n\u001b[1;32m      7\u001b[0m     \u001b[38;5;28mprint\u001b[39m(\u001b[38;5;124m\"\u001b[39m\u001b[38;5;124mL\u001b[39m\u001b[38;5;124m'\u001b[39m\u001b[38;5;124maire du rectangle est \u001b[39m\u001b[38;5;124m\"\u001b[39m \u001b[38;5;241m+\u001b[39m \u001b[38;5;28mstr\u001b[39m(a) \u001b[38;5;241m+\u001b[39m \u001b[38;5;124m\"\u001b[39m\u001b[38;5;124mm2\u001b[39m\u001b[38;5;124m\"\u001b[39m)\n\u001b[0;32m----> 9\u001b[0m \u001b[43mairrectangle\u001b[49m\u001b[43m(\u001b[49m\u001b[43m)\u001b[49m\n",
      "Cell \u001b[0;32mIn[2], line 3\u001b[0m, in \u001b[0;36mairrectangle\u001b[0;34m()\u001b[0m\n\u001b[1;32m      1\u001b[0m \u001b[38;5;28;01mdef\u001b[39;00m \u001b[38;5;21mairrectangle\u001b[39m():\n\u001b[0;32m----> 3\u001b[0m     longueur\u001b[38;5;241m=\u001b[39m\u001b[38;5;28;43minput\u001b[39;49m\u001b[43m(\u001b[49m\u001b[38;5;124;43m\"\u001b[39;49m\u001b[38;5;124;43mDéfinissez la longeur (L)\u001b[39;49m\u001b[38;5;124;43m\"\u001b[39;49m\u001b[43m)\u001b[49m    \n\u001b[1;32m      4\u001b[0m     largeur\u001b[38;5;241m=\u001b[39m\u001b[38;5;28minput\u001b[39m(\u001b[38;5;124m\"\u001b[39m\u001b[38;5;124mDéfinissez la largeur (l)\u001b[39m\u001b[38;5;124m\"\u001b[39m)\n\u001b[1;32m      6\u001b[0m     a \u001b[38;5;241m=\u001b[39m \u001b[38;5;28mint\u001b[39m(longueur) \u001b[38;5;241m*\u001b[39m \u001b[38;5;28mint\u001b[39m(largeur)\n",
      "File \u001b[0;32m/usr/local/Cellar/jupyterlab/4.0.6/libexec/lib/python3.11/site-packages/ipykernel/kernelbase.py:1202\u001b[0m, in \u001b[0;36mKernel.raw_input\u001b[0;34m(self, prompt)\u001b[0m\n\u001b[1;32m   1200\u001b[0m     msg \u001b[38;5;241m=\u001b[39m \u001b[38;5;124m\"\u001b[39m\u001b[38;5;124mraw_input was called, but this frontend does not support input requests.\u001b[39m\u001b[38;5;124m\"\u001b[39m\n\u001b[1;32m   1201\u001b[0m     \u001b[38;5;28;01mraise\u001b[39;00m StdinNotImplementedError(msg)\n\u001b[0;32m-> 1202\u001b[0m \u001b[38;5;28;01mreturn\u001b[39;00m \u001b[38;5;28;43mself\u001b[39;49m\u001b[38;5;241;43m.\u001b[39;49m\u001b[43m_input_request\u001b[49m\u001b[43m(\u001b[49m\n\u001b[1;32m   1203\u001b[0m \u001b[43m    \u001b[49m\u001b[38;5;28;43mstr\u001b[39;49m\u001b[43m(\u001b[49m\u001b[43mprompt\u001b[49m\u001b[43m)\u001b[49m\u001b[43m,\u001b[49m\n\u001b[1;32m   1204\u001b[0m \u001b[43m    \u001b[49m\u001b[38;5;28;43mself\u001b[39;49m\u001b[38;5;241;43m.\u001b[39;49m\u001b[43m_parent_ident\u001b[49m\u001b[43m[\u001b[49m\u001b[38;5;124;43m\"\u001b[39;49m\u001b[38;5;124;43mshell\u001b[39;49m\u001b[38;5;124;43m\"\u001b[39;49m\u001b[43m]\u001b[49m\u001b[43m,\u001b[49m\n\u001b[1;32m   1205\u001b[0m \u001b[43m    \u001b[49m\u001b[38;5;28;43mself\u001b[39;49m\u001b[38;5;241;43m.\u001b[39;49m\u001b[43mget_parent\u001b[49m\u001b[43m(\u001b[49m\u001b[38;5;124;43m\"\u001b[39;49m\u001b[38;5;124;43mshell\u001b[39;49m\u001b[38;5;124;43m\"\u001b[39;49m\u001b[43m)\u001b[49m\u001b[43m,\u001b[49m\n\u001b[1;32m   1206\u001b[0m \u001b[43m    \u001b[49m\u001b[43mpassword\u001b[49m\u001b[38;5;241;43m=\u001b[39;49m\u001b[38;5;28;43;01mFalse\u001b[39;49;00m\u001b[43m,\u001b[49m\n\u001b[1;32m   1207\u001b[0m \u001b[43m\u001b[49m\u001b[43m)\u001b[49m\n",
      "File \u001b[0;32m/usr/local/Cellar/jupyterlab/4.0.6/libexec/lib/python3.11/site-packages/ipykernel/kernelbase.py:1245\u001b[0m, in \u001b[0;36mKernel._input_request\u001b[0;34m(self, prompt, ident, parent, password)\u001b[0m\n\u001b[1;32m   1242\u001b[0m \u001b[38;5;28;01mexcept\u001b[39;00m \u001b[38;5;167;01mKeyboardInterrupt\u001b[39;00m:\n\u001b[1;32m   1243\u001b[0m     \u001b[38;5;66;03m# re-raise KeyboardInterrupt, to truncate traceback\u001b[39;00m\n\u001b[1;32m   1244\u001b[0m     msg \u001b[38;5;241m=\u001b[39m \u001b[38;5;124m\"\u001b[39m\u001b[38;5;124mInterrupted by user\u001b[39m\u001b[38;5;124m\"\u001b[39m\n\u001b[0;32m-> 1245\u001b[0m     \u001b[38;5;28;01mraise\u001b[39;00m \u001b[38;5;167;01mKeyboardInterrupt\u001b[39;00m(msg) \u001b[38;5;28;01mfrom\u001b[39;00m \u001b[38;5;28;01mNone\u001b[39;00m\n\u001b[1;32m   1246\u001b[0m \u001b[38;5;28;01mexcept\u001b[39;00m \u001b[38;5;167;01mException\u001b[39;00m:\n\u001b[1;32m   1247\u001b[0m     \u001b[38;5;28mself\u001b[39m\u001b[38;5;241m.\u001b[39mlog\u001b[38;5;241m.\u001b[39mwarning(\u001b[38;5;124m\"\u001b[39m\u001b[38;5;124mInvalid Message:\u001b[39m\u001b[38;5;124m\"\u001b[39m, exc_info\u001b[38;5;241m=\u001b[39m\u001b[38;5;28;01mTrue\u001b[39;00m)\n",
      "\u001b[0;31mKeyboardInterrupt\u001b[0m: Interrupted by user"
     ]
    }
   ],
   "source": [
    "def airrectangle():\n",
    "    \n",
    "    longueur=input(\"Définissez la longeur (L)\")    \n",
    "    largeur=input(\"Définissez la largeur (l)\")\n",
    "    \n",
    "    a = int(longueur) * int(largeur)\n",
    "    print(\"L'aire du rectangle est \" + str(a) + \"m2\")\n",
    "\n",
    "airrectangle()"
   ]
  },
  {
   "cell_type": "markdown",
   "metadata": {
    "deletable": false,
    "editable": false,
    "run_control": {
     "frozen": true
    }
   },
   "source": [
    "**Pour s'entraîner :** Exercices 6 et 7 du TD 1"
   ]
  },
  {
   "cell_type": "markdown",
   "metadata": {
    "deletable": false,
    "editable": false,
    "run_control": {
     "frozen": true
    }
   },
   "source": [
    "## Question 2 : Affichage personnalisé : carré ou rectangle\n",
    "\n",
    "On souhaite modifier l'affichage du programme pour qu'il affiche `L'aire de ce carré est...` dans le cas où l'utilisateur saisit la même valeur pour la longueur et pour la largeur.\n",
    "\n",
    "**Notions abordées :** if/else"
   ]
  },
  {
   "cell_type": "code",
   "execution_count": 8,
   "metadata": {
    "tags": [
     "answer"
    ]
   },
   "outputs": [
    {
     "name": "stdout",
     "output_type": "stream",
     "text": [
      "Définissez la longeur (L)10\n",
      "Définissez la largeur (l)15\n",
      "L'aire du rectangle est 150\n"
     ]
    },
    {
     "data": {
      "text/plain": [
       "0"
      ]
     },
     "execution_count": 8,
     "metadata": {},
     "output_type": "execute_result"
    }
   ],
   "source": [
    "def airrectangle_ou_carre():\n",
    "    \n",
    "    longueur=input(\"Définissez la longeur (L)\")    \n",
    "    largeur=input(\"Définissez la largeur (l)\")\n",
    "    \n",
    "    longueur = int(longueur)\n",
    "    largeur = int(largeur)\n",
    "    \n",
    "    a = longueur * largeur\n",
    "    \n",
    "    if(longueur == largeur):\n",
    "        print(\"L'aire du carré est \" + str(a) + \"m2\")\n",
    "    else:\n",
    "        print(\"L'aire du rectangle est \" + str(a) + \"m2\")\n",
    "\n",
    "airrectangle_ou_carre()"
   ]
  },
  {
   "cell_type": "markdown",
   "metadata": {
    "deletable": false,
    "editable": false,
    "run_control": {
     "frozen": true
    }
   },
   "source": [
    "## Annexe : tests\n",
    "\n",
    "Déterminer les valeurs des expressions suivantes : \n"
   ]
  },
  {
   "cell_type": "code",
   "execution_count": 38,
   "metadata": {},
   "outputs": [
    {
     "name": "stdout",
     "output_type": "stream",
     "text": [
      "False\n",
      "True\n",
      "True\n",
      "True\n",
      "False\n",
      "False\n",
      "False\n",
      "True\n"
     ]
    }
   ],
   "source": [
    "import math\n",
    "\n",
    "print(2 == 3)\n",
    "print(2 != 3)\n",
    "print(2 < 3)\n",
    "print(2 <= 3)\n",
    "print(2 > 3)\n",
    "print(2 >= 3)\n",
    "\n",
    "print(1 + 4 < 6-2)\n",
    "print(math.isclose(0.1 + 0.2, 0.3))"
   ]
  },
  {
   "cell_type": "code",
   "execution_count": null,
   "metadata": {},
   "outputs": [],
   "source": [
    "print(2 == 3 and 3 < 4)\n",
    "print(2 + 1 == 3 and False)\n",
    "print(False and True)\n",
    "print(var = 2 < 3)\n",
    "print(var or 1 == 0)\n",
    "print(not(2 == 3) and 3 > 4 - 2)"
   ]
  },
  {
   "cell_type": "markdown",
   "metadata": {
    "deletable": false,
    "editable": false,
    "run_control": {
     "frozen": true
    }
   },
   "source": [
    "**Pour s'entraîner :** Exercices 8 et 11 du TD 2, Exercice 7 du TP 2"
   ]
  },
  {
   "cell_type": "markdown",
   "metadata": {
    "deletable": false,
    "editable": false,
    "run_control": {
     "frozen": true
    }
   },
   "source": [
    "## Question 3 : Calcul du gabarit\n",
    "\n",
    "Ajouter un affichage indiquant si le rectangle est grand (aire >= 100 m²), moyen (aire comprise entre 50 et 100  m² (exclus)) ou petit (aire < 50 m²)\n",
    "\n",
    "**Notions abordée :** if/elif/else"
   ]
  },
  {
   "cell_type": "code",
   "execution_count": 3,
   "metadata": {
    "tags": [
     "answer"
    ]
   },
   "outputs": [
    {
     "name": "stdin",
     "output_type": "stream",
     "text": [
      "Définissez la longueur (L):  8\n",
      "Définissez la largeur (l):  8\n"
     ]
    },
    {
     "name": "stdout",
     "output_type": "stream",
     "text": [
      "L'aire du carré est 64 m2\n",
      "L'aire du carré est moyen\n"
     ]
    }
   ],
   "source": [
    "def airrectangle_ou_carre():\n",
    "    \n",
    "    longueur = int(input(\"Définissez la longueur (L): \"))\n",
    "    largeur = int(input(\"Définissez la largeur (l): \"))\n",
    "    \n",
    "#    longueur = int(longueur)\n",
    "#    largeur = int(largeur)\n",
    "    \n",
    "    a = longueur * largeur\n",
    "    \n",
    "    if longueur == largeur:\n",
    "        print(\"L'aire du carré est \" + str(a) + \" m2\")\n",
    "        if a >= 100:\n",
    "            print(\"L'aire du carré est grand\")\n",
    "        elif a > 50 and a < 100:\n",
    "            print(\"L'aire du carré est moyen\")\n",
    "        else:\n",
    "            print(\"L'aire du carré est petit\")\n",
    "    else:\n",
    "        print(\"L'aire du rectangle est \" + str(a) + \" m2\")\n",
    "        if a >= 100:\n",
    "            print(\"L'aire du rectangle est grand\")\n",
    "        elif a > 50 and a < 100:\n",
    "            print(\"L'aire du rectangle est moyen\")\n",
    "        else:\n",
    "            print(\"L'aire du rectangle est petit\")\n",
    "\n",
    "airrectangle_ou_carre()"
   ]
  },
  {
   "cell_type": "markdown",
   "metadata": {
    "deletable": false,
    "editable": false,
    "run_control": {
     "frozen": true
    }
   },
   "source": [
    "**Pour s'entraîner :** Exercice 7 du TD 2, Exercice 5 du TP 2"
   ]
  },
  {
   "cell_type": "markdown",
   "metadata": {
    "deletable": false,
    "editable": false,
    "run_control": {
     "frozen": true
    }
   },
   "source": [
    "## Question 4 : Saisie d'une longueur strictement positive\n",
    "\n",
    "Modifier le programme pour que la saisie de la longueur soit répétée tant que l'utilisateur saisit un nombre qui n'est pas strictement positif.\n",
    "\n",
    "**Remarque :** on suppose que dans tous les cas, l'utilisateur saisit un nombre."
   ]
  },
  {
   "cell_type": "code",
   "execution_count": 9,
   "metadata": {
    "tags": [
     "answer"
    ]
   },
   "outputs": [
    {
     "name": "stdin",
     "output_type": "stream",
     "text": [
      "Définissez la longueur (L):  19\n",
      "Définissez la largeur (l):  0\n"
     ]
    },
    {
     "name": "stdout",
     "output_type": "stream",
     "text": [
      "Veuillez recommencer la saisie\n"
     ]
    },
    {
     "name": "stdin",
     "output_type": "stream",
     "text": [
      "Définissez la longueur (L):  19\n",
      "Définissez la largeur (l):  290\n"
     ]
    },
    {
     "name": "stdout",
     "output_type": "stream",
     "text": [
      "L'aire du rectangle est 5510 m2\n",
      "L'aire du rectangle est grand\n"
     ]
    }
   ],
   "source": [
    "def airrectangle_ou_carre():\n",
    "\n",
    "        longueur = int(input(\"Définissez la longueur (L): \"))\n",
    "        largeur = int(input(\"Définissez la largeur (l): \"))\n",
    "        \n",
    "        if longueur > 0 and largeur > 0:\n",
    "            a = longueur * largeur\n",
    "            if longueur == largeur:\n",
    "                print(f\"L'aire du carré est {a} m2\")\n",
    "                if a >= 100:\n",
    "                    print(\"L'aire du carré est grand\")\n",
    "                elif 50 < a < 100:\n",
    "                    print(\"L'aire du carré est moyen\")\n",
    "                else:\n",
    "                    print(\"L'aire du carré est petit\")\n",
    "            else:\n",
    "                print(f\"L'aire du rectangle est {a} m2\")\n",
    "                if a >= 100:\n",
    "                    print(\"L'aire du rectangle est grand\")\n",
    "                elif 50 < a < 100:\n",
    "                    print(\"L'aire du rectangle est moyen\")\n",
    "                else:\n",
    "                    print(\"L'aire du rectangle est petit\")\n",
    "        else:\n",
    "            print(\"Veuillez recommencer la saisie\")\n",
    "            airrectangle_ou_carre()\n",
    "\n",
    "\n",
    "airrectangle_ou_carre()"
   ]
  },
  {
   "cell_type": "markdown",
   "metadata": {
    "deletable": false,
    "editable": false,
    "run_control": {
     "frozen": true
    }
   },
   "source": [
    "**Pour s'entraîner :** Exercices 7 et 8 du TD 3, Exercice 7 du TP 3"
   ]
  },
  {
   "cell_type": "markdown",
   "metadata": {
    "deletable": false,
    "editable": false,
    "run_control": {
     "frozen": true
    }
   },
   "source": [
    "## Question 5 : Fonctions de saisie contrôlée\n",
    "\n",
    "Définir une fonction `saisiePos` retournant un nombre strictement positif. Ce nombre aura été saisi par l'utilisateur et la saisie répétée jusqu'à ce qu'il saisisse un nombre strictement positif.\n",
    "Modifier alors le programme précédent pour que la valeur de la longueur et de la largeur soient saisies grâce à cette fonction (ne pas hésiter à modifier le message pour la saisie)."
   ]
  },
  {
   "cell_type": "code",
   "execution_count": 30,
   "metadata": {
    "tags": [
     "answer"
    ]
   },
   "outputs": [
    {
     "name": "stdout",
     "output_type": "stream",
     "text": [
      "Saisissez un nombre positif pour la longueur: -8\n",
      "Veuillez recommencer la saisie\n",
      "Saisissez un nombre positif pour la longueur: 15\n",
      "Saisissez un nombre positif pour la largeur: 25\n",
      "L'aire du rectangle est 375 m2\n",
      "L'aire du rectangle est grand\n"
     ]
    }
   ],
   "source": [
    "def saisiePos(element):\n",
    "\n",
    "        nombre_pos = int(input(f\"Saisissez un nombre positif pour {element}: \"))\n",
    "    \n",
    "        while nombre_pos <= 0 or nombre_pos % 2 != 0:\n",
    "            print(\"Veuillez recommencer la saisie\")\n",
    "            nombre_pos = int(input(f\"Saisissez un nombre positif pour {element}: \"))\n",
    "        else: \n",
    "            return nombre_pos\n",
    "            \n",
    "def airrectangle_ou_carre():\n",
    "    \n",
    "    longueur = saisiePos(\"la longueur\")\n",
    "    largeur = saisiePos(\"la largeur\")\n",
    "        \n",
    "    if longueur > 0 and largeur > 0:\n",
    "        a = longueur * largeur\n",
    "        if longueur == largeur:\n",
    "            print(f\"L'aire du carré est {a} m2\")\n",
    "            if a >= 100:\n",
    "                print(\"L'aire du carré est grand\")\n",
    "            elif 50 < a < 100:\n",
    "                print(\"L'aire du carré est moyen\")\n",
    "            else:\n",
    "                print(\"L'aire du carré est petit\")\n",
    "        else:\n",
    "            print(f\"L'aire du rectangle est {a} m2\")\n",
    "            if a >= 100:\n",
    "                print(\"L'aire du rectangle est grand\")\n",
    "            elif 50 < a < 100:\n",
    "                print(\"L'aire du rectangle est moyen\")\n",
    "            else:\n",
    "                print(\"L'aire du rectangle est petit\")\n",
    "    else:\n",
    "        print(\"Veuillez recommencer la saisie\")\n",
    "        airrectangle_ou_carre()\n",
    "\n",
    "airrectangle_ou_carre()"
   ]
  },
  {
   "cell_type": "markdown",
   "metadata": {
    "deletable": false,
    "editable": false,
    "run_control": {
     "frozen": true
    }
   },
   "source": [
    "Définir une fonction de saisie contrôlée assurant que la valeur saisie est un entier strictement positif **et pair**."
   ]
  },
  {
   "cell_type": "code",
   "execution_count": 24,
   "metadata": {
    "tags": [
     "answer"
    ]
   },
   "outputs": [
    {
     "name": "stdin",
     "output_type": "stream",
     "text": [
      "Saisissez un nombre positif pour la longueur:  0\n"
     ]
    },
    {
     "name": "stdout",
     "output_type": "stream",
     "text": [
      "Veuillez recommencer la saisie\n"
     ]
    },
    {
     "name": "stdin",
     "output_type": "stream",
     "text": [
      "Saisissez un nombre positif pour la longueur:  0\n"
     ]
    },
    {
     "name": "stdout",
     "output_type": "stream",
     "text": [
      "Veuillez recommencer la saisie\n"
     ]
    },
    {
     "name": "stdin",
     "output_type": "stream",
     "text": [
      "Saisissez un nombre positif pour la longueur:  10\n",
      "Saisissez un nombre positif pour la largeur:  0\n"
     ]
    },
    {
     "name": "stdout",
     "output_type": "stream",
     "text": [
      "Veuillez recommencer la saisie\n"
     ]
    },
    {
     "name": "stdin",
     "output_type": "stream",
     "text": [
      "Saisissez un nombre positif pour la largeur:  12\n"
     ]
    },
    {
     "name": "stdout",
     "output_type": "stream",
     "text": [
      "L'aire du rectangle est 120 m2\n",
      "L'aire du rectangle est grand\n"
     ]
    }
   ],
   "source": [
    "def saisiePos(element):\n",
    "\n",
    "        nombre_pos = int(input(f\"Saisissez un nombre positif pour {element}: \"))\n",
    "    \n",
    "        while nombre_pos <= 0 or nombre_pos % 2 != 0:\n",
    "            print(\"Veuillez recommencer la saisie\")\n",
    "            nombre_pos = int(input(f\"Saisissez un nombre positif pour {element}: \"))\n",
    "        else: \n",
    "            return nombre_pos\n",
    "\n",
    "def airrectangle_ou_carre():\n",
    "    \n",
    "    longueur = saisiePos(\"la longueur\")\n",
    "    largeur = saisiePos(\"la largeur\")\n",
    "        \n",
    "    if longueur > 0 and largeur > 0:\n",
    "        a = longueur * largeur\n",
    "        if longueur == largeur:\n",
    "            print(f\"L'aire du carré est {a} m2\")\n",
    "            if a >= 100:\n",
    "                print(\"L'aire du carré est grand\")\n",
    "            elif 50 < a < 100:\n",
    "                print(\"L'aire du carré est moyen\")\n",
    "            else:\n",
    "                print(\"L'aire du carré est petit\")\n",
    "        else:\n",
    "            print(f\"L'aire du rectangle est {a} m2\")\n",
    "            if a >= 100:\n",
    "                print(\"L'aire du rectangle est grand\")\n",
    "            elif 50 < a < 100:\n",
    "                print(\"L'aire du rectangle est moyen\")\n",
    "            else:\n",
    "                print(\"L'aire du rectangle est petit\")\n",
    "    else:\n",
    "        print(\"Veuillez recommencer la saisie\")\n",
    "\n",
    "airrectangle_ou_carre()"
   ]
  },
  {
   "cell_type": "markdown",
   "metadata": {
    "deletable": false,
    "editable": false,
    "run_control": {
     "frozen": true
    }
   },
   "source": [
    "Définir une fonction de saisie contrôlée prenant en paramètre un message et un intervalle et retournant un nombre saisi par l'utilisateur qui soit dans cet intervalle.\n",
    "Le message sera affiché à chaque saisie de l'utilisateur."
   ]
  },
  {
   "cell_type": "code",
   "execution_count": 15,
   "metadata": {
    "tags": [
     "answer"
    ]
   },
   "outputs": [],
   "source": [
    "############################## \n",
    "#   Saisir votre code ici.   #\n",
    "##############################\n",
    "\n",
    "\n"
   ]
  },
  {
   "cell_type": "markdown",
   "metadata": {
    "deletable": false,
    "editable": false,
    "run_control": {
     "frozen": true
    }
   },
   "source": [
    "**Pour s'entraîner :** Exercice 2 du TD 4, Tous les exercices du TP 4"
   ]
  },
  {
   "cell_type": "markdown",
   "metadata": {
    "deletable": false,
    "editable": false,
    "run_control": {
     "frozen": true
    }
   },
   "source": [
    "## Question 6 : Résultat sous forme d'une chaîne de caractères\n",
    "\n",
    "Définir la fonction `description` prenant en paramètre une longueur et une largeur et **retournant une chaîne de caractères** décrivant le rectangle. La description est le gabarit suivi de la forme. Par exemple `petit carré`.\n",
    "\n",
    "Ajouter un docstring pour décrire la fonction."
   ]
  },
  {
   "cell_type": "code",
   "execution_count": 46,
   "metadata": {
    "tags": [
     "answer"
    ]
   },
   "outputs": [
    {
     "name": "stdout",
     "output_type": "stream",
     "text": [
      "Saisissez un nombre positif pour la longueur: 24\n",
      "Saisissez un nombre positif pour la largeur: 26\n",
      "L'aire du rectangle est 624 m2\n",
      "L'aire du rectangle est grand\n"
     ]
    }
   ],
   "source": [
    "def saisiePos(element):\n",
    "\n",
    "        nombre_pos = int(input(f\"Saisissez un nombre positif pour {element}: \"))\n",
    "    \n",
    "        while nombre_pos <= 0 or nombre_pos % 2 != 0:\n",
    "            print(\"Veuillez recommencer la saisie\")\n",
    "            nombre_pos = int(input(f\"Saisissez un nombre positif pour {element}: \"))\n",
    "        else: \n",
    "            return nombre_pos\n",
    "\n",
    "def description(longueur, largeur):\n",
    "    \n",
    "    a = longueur * largeur\n",
    "    if longueur == largeur:\n",
    "            print(f\"L'aire du carré est {a} m2\")\n",
    "            if a >= 100:\n",
    "                print(\"L'aire du carré est grand\")\n",
    "            elif 50 < a < 100:\n",
    "                print(\"L'aire du carré est moyen\")\n",
    "            else:\n",
    "                print(\"L'aire du carré est petit\")\n",
    "    else:\n",
    "            print(f\"L'aire du rectangle est {a} m2\")\n",
    "            if a >= 100:\n",
    "                   print(\"L'aire du rectangle est grand\")\n",
    "            elif 50 < a < 100:\n",
    "                   print(\"L'aire du rectangle est moyen\")\n",
    "            else:\n",
    "                   print(\"L'aire du rectangle est petit\")\n",
    "    \n",
    "def airrectangle_ou_carre():\n",
    "    \n",
    "    longueur = saisiePos(\"la longueur\")\n",
    "    largeur = saisiePos(\"la largeur\")\n",
    "    \n",
    "    description(longueur, largeur)\n",
    "    \n",
    "airrectangle_ou_carre()"
   ]
  },
  {
   "cell_type": "markdown",
   "metadata": {
    "deletable": false,
    "editable": false,
    "run_control": {
     "frozen": true
    }
   },
   "source": [
    "Définir une fonction de tests unitaires pour la fonction description."
   ]
  },
  {
   "cell_type": "code",
   "execution_count": 45,
   "metadata": {
    "tags": [
     "answer"
    ]
   },
   "outputs": [],
   "source": [
    "############################## \n",
    "#   Saisir votre code ici.   #\n",
    "##############################\n",
    "\n",
    "\n"
   ]
  },
  {
   "cell_type": "code",
   "execution_count": null,
   "metadata": {},
   "outputs": [],
   "source": []
  }
 ],
 "metadata": {
  "kernelspec": {
   "display_name": "Python 3 (ipykernel)",
   "language": "python",
   "name": "python3"
  },
  "language_info": {
   "codemirror_mode": {
    "name": "ipython",
    "version": 3
   },
   "file_extension": ".py",
   "mimetype": "text/x-python",
   "name": "python",
   "nbconvert_exporter": "python",
   "pygments_lexer": "ipython3",
   "version": "3.11.5"
  }
 },
 "nbformat": 4,
 "nbformat_minor": 4
}
