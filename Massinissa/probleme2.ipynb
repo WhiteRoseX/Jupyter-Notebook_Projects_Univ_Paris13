{
 "cells": [
  {
   "cell_type": "markdown",
   "metadata": {
    "deletable": false,
    "editable": false,
    "run_control": {
     "frozen": true
    }
   },
   "source": [
    "## Problème 2 : Le buzzle\n",
    "\n",
    "Le buzzle est un jeu pour enfants. Un enfant commence par dire le nombre 1. Ensuite, à tour de rôle, chaque enfant doit dire le nombre suivant ou \"Buzzle\" si ce nombre satisfait au moins une des conditions suivantes : \n",
    "- il est multiple de 7,\n",
    "- il contient le chiffre 7,\n",
    "- la somme de ses chiffres est un multiple de 7.\n",
    "\n",
    "Le jeu s'arrête dès qu'un enfant se trompe.\n",
    "\n",
    "S'il y a deux enfants, Alice et Bob, alors un début de partie (jusqu'à 20) serait : \n",
    "```\n",
    "- Alice : \"1\"\n",
    "- Bob : \"2\"\n",
    "- Alice : \"3\"\n",
    "- Bob : \"4\"\n",
    "- Alice : \"5\"\n",
    "- Bob : \"6\"\n",
    "- Alice : \"Buzzle\"\n",
    "- Bob : \"8\"\n",
    "- Alice : \"9\"\n",
    "- Bob : \"10\"\n",
    "- Alice : \"11\"\n",
    "- Bob : \"12\"\n",
    "- Alice : \"13\"\n",
    "- Bob : \"Buzzle\"\n",
    "- Alice : \"15\"\n",
    "- Bob : \"Buzzle\"\n",
    "- Alice : \"Buzzle\"\n",
    "- Bob : \"18\"\n",
    "- Alice : \"19\"\n",
    "- Bob : \"20\"\n",
    "```\n",
    "En effet, 7 et 17 contiennent le chiffre 7, 14 est un multiple de 7 et la somme des chiffres de 16 (soit 1 + 6) fait 7.\n",
    "\n",
    "Le problème consiste à simuler un début de partie de buzzle (sans erreur) entre Alice et Bob.\n",
    "\n",
    "**Notions abordées pour ce problème :** fonctions, tests de logique, tests unitaires"
   ]
  },
  {
   "cell_type": "markdown",
   "metadata": {
    "deletable": false,
    "editable": false,
    "run_control": {
     "frozen": true
    }
   },
   "source": [
    "## Question 1 : jeu simplifié\n",
    "\n",
    "On dit qu'un nombre est *buzzle* si dans le jeu, il faut dire Buzzle pour ce nombre.\n",
    "\n",
    "Pour le moment, on suppose qu'un nombre est buzzle s'il est un multiple de 7 (et uniquement dans ce cas). Définir la fonction `isBuzzle` prenant un nombre en paramètre et retournant `True` si ce nombre est buzzle, et `False` sinon.\n",
    "\n",
    "Par exemple, `isBuzzle(21)` doit retourner `True` alors que `isBuzzle(22)` doit retourner `False`."
   ]
  },
  {
   "cell_type": "code",
   "execution_count": 9,
   "metadata": {
    "tags": [
     "answer"
    ]
   },
   "outputs": [
    {
     "name": "stdout",
     "output_type": "stream",
     "text": [
      "None\n"
     ]
    }
   ],
   "source": [
    "def isBuzzle(number):\n",
    "\n",
    "    resultat = 0\n",
    "\n",
    "    for chiffre in str(number): \n",
    "        \n",
    "        resultat += int(chiffre) \n",
    "        if resultat%7 == 0:\n",
    "            return True\n",
    "    \n",
    "    for i in range(number):\n",
    "        \n",
    "        if '7' in str(number):\n",
    "            return  True\n",
    "            \n",
    "    \n",
    "    if number%7 == 0: \n",
    "        return True\n",
    "\n",
    "    \n",
    "print(isBuzzle(8))"
   ]
  },
  {
   "cell_type": "markdown",
   "metadata": {
    "deletable": false,
    "editable": false,
    "run_control": {
     "frozen": true
    }
   },
   "source": [
    "Définir la fonction `afficherBuzzle` prenant en paramètre un entier positif. La programme doit afficher toutes les valeurs dites par les enfants pour les nombres entre 1 et l'entier passé en paramètre.\n",
    "\n",
    "Par exemple, l'appel de la fonction `afficherBuzzle(20)` doit afficher :\n",
    "```\n",
    "1\n",
    "2\n",
    "3\n",
    "4\n",
    "5\n",
    "6\n",
    "Buzzle\n",
    "8\n",
    "9\n",
    "10\n",
    "11\n",
    "12\n",
    "13\n",
    "Buzzle\n",
    "15\n",
    "Buzzle\n",
    "Buzzle\n",
    "18\n",
    "19\n",
    "20\n",
    "```"
   ]
  },
  {
   "cell_type": "code",
   "execution_count": 10,
   "metadata": {
    "tags": [
     "answer"
    ]
   },
   "outputs": [
    {
     "name": "stdout",
     "output_type": "stream",
     "text": [
      "None\n"
     ]
    }
   ],
   "source": [
    "def isBuzzle(number):\n",
    "\n",
    "    resultat = 0\n",
    "\n",
    "    for chiffre in str(number): \n",
    "        \n",
    "        resultat += int(chiffre) \n",
    "        if resultat%7 == 0:\n",
    "            return True\n",
    "    \n",
    "    for i in range(number):\n",
    "        \n",
    "        if '7' in str(number):\n",
    "            return  True\n",
    "            \n",
    "    \n",
    "    if number%7 == 0: \n",
    "        return True\n",
    "\n",
    "    \n",
    "print(isBuzzle(8))"
   ]
  },
  {
   "cell_type": "code",
   "execution_count": 18,
   "metadata": {
    "tags": [
     "answer"
    ]
   },
   "outputs": [
    {
     "name": "stdout",
     "output_type": "stream",
     "text": [
      "1\n",
      "2\n",
      "3\n",
      "4\n",
      "5\n",
      "6\n",
      "Buzzle\n",
      "8\n",
      "9\n",
      "10\n",
      "11\n",
      "12\n",
      "13\n",
      "Buzzle\n",
      "15\n",
      "Buzzle\n",
      "Buzzle\n",
      "18\n",
      "19\n",
      "20\n"
     ]
    }
   ],
   "source": [
    "def isBuzzle(number):\n",
    "\n",
    "    resultat = 0\n",
    "\n",
    "    for chiffre in str(number): \n",
    "        \n",
    "        resultat += int(chiffre) \n",
    "        if resultat%7 == 0:\n",
    "            return True\n",
    "    \n",
    "    for i in range(number):\n",
    "        \n",
    "        if '7' in str(number):\n",
    "            return  True\n",
    "            \n",
    "    \n",
    "    if number%7 == 0: \n",
    "        return True\n",
    "\n",
    "\n",
    "def afficherBuzzle(entier_pos):\n",
    "\n",
    "    for i in range(1,entier_pos+1):\n",
    "        if isBuzzle(i):\n",
    "            print(\"Buzzle\")\n",
    "        else:\n",
    "            print(str(i))\n",
    "            \n",
    "    \n",
    "print(afficherBuzzle(200))"
   ]
  },
  {
   "cell_type": "markdown",
   "metadata": {
    "deletable": false,
    "editable": false,
    "run_control": {
     "frozen": true
    }
   },
   "source": [
    "## Question 2 : Redéfinition de la fonction `isBuzzle`\n",
    "\n",
    "On veut modifier la fonction `isBuzzle` pour qu'elle renvoie `True` si le nombre passé en paramètre est buzzle (en considérant cette fois tous les cas possibles).\n",
    "\n",
    "Pour cela, il est nécessaire d'avoir accès aux chiffres d'un nombre. Définir la fonction `afficheChiffres` prenant en paramètre un entier strictement positif et affichant ligne par ligne ses différents chiffres. Par exemple, l'appel de la fonction `afficheChiffres(1234)` doit afficher les chiffres 1, 2, 3 et 4 (un par ligne).\n",
    "\n",
    "**Attention :** L'ordre des chiffres n'est pas important.\n",
    "\n",
    "**Remarque :** Cette fonction ne sera pas utilisée par la suite. Elle est juste là pour comprendre comment écrire la fonction `isBuzzle`.\n",
    "\n",
    "**Aide :** `nb%10` permet d'obtenir le dernier chiffre (unité) du nombre `nb`. Pour obtenir le chiffre suivant, il faut faire la même instruction lorsque `nb` a été divisé par 10 (division entière)."
   ]
  },
  {
   "cell_type": "code",
   "execution_count": 20,
   "metadata": {
    "tags": [
     "answer"
    ]
   },
   "outputs": [
    {
     "name": "stdout",
     "output_type": "stream",
     "text": [
      " -Bob : '1'\n",
      " -Alice : '2'\n",
      " -Bob : '3'\n",
      " -Alice : '4'\n",
      " -Bob : '5'\n",
      " -Alice : '6'\n",
      " -Bob : '7'\n",
      " -Alice : '8'\n",
      " -Bob : '9'\n",
      " -Alice : '10'\n",
      " -Bob : '11'\n",
      " -Alice : '12'\n",
      " -Bob : '13'\n",
      " -Alice : '14'\n",
      " -Bob : '15'\n",
      " -Alice : '16'\n",
      " -Bob : '17'\n",
      " -Alice : '18'\n",
      " -Bob : '19'\n"
     ]
    }
   ],
   "source": [
    "for i in range(1,20):\n",
    "    if i%2==0:\n",
    "        print(f\" -Alice : '{i}'\")\n",
    "    else: \n",
    "        print(f\" -Bob : '{i}'\")"
   ]
  },
  {
   "cell_type": "markdown",
   "metadata": {
    "deletable": false,
    "editable": false,
    "run_control": {
     "frozen": true
    }
   },
   "source": [
    "Redéfinir la fonction `isBuzzle`. La fonction doit retourner `True` si l'entier `nb` passé en paramètre vérifie au moins un des critères suivants :\n",
    "- `nb` est multiple de 7,\n",
    "- `nb` contient le chiffre 7,\n",
    "- la somme des chiffres de `nb` est un multiple de 7."
   ]
  },
  {
   "cell_type": "markdown",
   "metadata": {
    "deletable": false,
    "editable": false,
    "run_control": {
     "frozen": true
    }
   },
   "source": [
    "Définir une fonction de tests unitaires pour la fonction `isBuzzle`."
   ]
  },
  {
   "cell_type": "code",
   "execution_count": null,
   "metadata": {
    "tags": [
     "answer"
    ]
   },
   "outputs": [],
   "source": [
    "############################## \n",
    "#   Saisir votre code ici.   #\n",
    "##############################\n",
    "\n",
    "\n"
   ]
  },
  {
   "cell_type": "markdown",
   "metadata": {
    "deletable": false,
    "editable": false,
    "run_control": {
     "frozen": true
    }
   },
   "source": [
    "## Question 3 : Modification de l'affichage\n",
    "\n",
    "Modifier la fonction `afficherBuzzle` pour que l'affichage reproduise celui donné en début de problème pour l'explication, à savoir :\n",
    "```\n",
    "- Alice : \"1\"\n",
    "- Bob : \"2\"\n",
    "- Alice : \"3\"\n",
    "- Bob : \"4\"\n",
    "- Alice : \"5\"\n",
    "- Bob : \"6\"\n",
    "- Alice : \"Buzzle\"\n",
    "...\n",
    "```"
   ]
  },
  {
   "cell_type": "code",
   "execution_count": 35,
   "metadata": {
    "tags": [
     "answer"
    ]
   },
   "outputs": [
    {
     "name": "stdout",
     "output_type": "stream",
     "text": [
      "ALICE : '1'\n",
      "BOB : '2'\n",
      "ALICE : '3'\n",
      "BOB : '4'\n",
      "ALICE : '5'\n",
      "BOB : '6'\n",
      "ALICE : Buzzle\n",
      "BOB : '8'\n",
      "ALICE : '9'\n",
      "BOB : '10'\n",
      "ALICE : '11'\n",
      "BOB : '12'\n",
      "ALICE : '13'\n",
      "BOB : Buzzle\n",
      "ALICE : '15'\n",
      "BOB : Buzzle\n",
      "ALICE : Buzzle\n",
      "BOB : '18'\n",
      "ALICE : '19'\n",
      "BOB : '20'\n",
      "None\n"
     ]
    }
   ],
   "source": [
    "def Buzzle(number):\n",
    "    \n",
    "    resultat = 0\n",
    "    for chiffre in str(number): \n",
    "        \n",
    "        resultat += int(chiffre) \n",
    "        if resultat%7 == 0:\n",
    "            return True\n",
    "    \n",
    "    for i in range(number):\n",
    "        \n",
    "        if '7' in str(number):\n",
    "            return  True\n",
    "            \n",
    "    \n",
    "    if number%7 == 0: \n",
    "        return True\n",
    "\n",
    "def isBuzzle(nb):\n",
    "    \n",
    "    return Buzzle(nb)\n",
    "\n",
    "\n",
    "\n",
    "def afficherBuzzle(entier_pos, nom_paire, nom_impaire):\n",
    "\n",
    "    for i in range(1,entier_pos+1):\n",
    "        \n",
    "        if i%2==0:\n",
    "            if isBuzzle(i):\n",
    "                 print(f\"{nom_paire} : Buzzle\")\n",
    "            else:\n",
    "                print(f\"{nom_paire} : '{i}'\")\n",
    "        else: \n",
    "            if isBuzzle(i):\n",
    "                print(f\"{nom_impaire} : Buzzle\")\n",
    "            else:\n",
    "                print(f\"{nom_impaire} : '{i}'\")\n",
    "      \n",
    "    \n",
    "print(afficherBuzzle(20, 'BOB', 'ALICE'))"
   ]
  },
  {
   "cell_type": "markdown",
   "metadata": {
    "deletable": false,
    "editable": false,
    "run_control": {
     "frozen": true
    }
   },
   "source": [
    "**Pour s'entraîner :** Exercices 2 et 5 du TD 5, exercices 1 à 5 du TP 5."
   ]
  },
  {
   "cell_type": "code",
   "execution_count": null,
   "metadata": {},
   "outputs": [],
   "source": []
  },
  {
   "cell_type": "code",
   "execution_count": null,
   "metadata": {},
   "outputs": [],
   "source": []
  }
 ],
 "metadata": {
  "kernelspec": {
   "display_name": "Python 3 (ipykernel)",
   "language": "python",
   "name": "python3"
  },
  "language_info": {
   "codemirror_mode": {
    "name": "ipython",
    "version": 3
   },
   "file_extension": ".py",
   "mimetype": "text/x-python",
   "name": "python",
   "nbconvert_exporter": "python",
   "pygments_lexer": "ipython3",
   "version": "3.11.5"
  }
 },
 "nbformat": 4,
 "nbformat_minor": 4
}
